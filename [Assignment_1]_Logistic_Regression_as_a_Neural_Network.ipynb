{
 "cells": [
  {
   "attachments": {},
   "cell_type": "markdown",
   "metadata": {},
   "source": [
    "# [2023 임베디드시스템특강: 딥러닝]\n",
    "\n",
    "# [과제1:] Logistic Regression as a Simplest Neural Network\n",
    "\n",
    "Logistic Regression을 통해서 고양이인지 여부를 판단하는 분류기(classifier)를 작성하는 과제를 수행합니다. 이를 통해서 신경망과 딥러닝에 대한 이해를 높입니다. \n",
    "\n",
    "**주의:**\n",
    "- for 또는 while과 같은 루프는 성능을 매우 저하시킵니다. 루프는 명시되지 않은 경우 사용을 하지 않도록 하세요. \n",
    "\n",
    "\n",
    "**배울 내용들:**\n",
    "- 학습 알고리즘의 기초들:\n",
    "    - 파라미터의 초기화\n",
    "    - cost function의 계산과 gradient의 계산\n",
    "    - gradient descent를 이용한 최적화 알고리즘\n",
    "- 위의 3가지 기능을 하나의 딥러닝 모델에 적절한 순서로 배치하기.\n"
   ]
  },
  {
   "cell_type": "markdown",
   "metadata": {},
   "source": [
    "# 0 - 시작하기전에...\n",
    "## 저 이제욱은 본 과제를 수행하면서 다른사람의 도움을 받거나 주지 않았습니다. \n"
   ]
  },
  {
   "attachments": {},
   "cell_type": "markdown",
   "metadata": {},
   "source": [
    "## 1 - Packages ##\n",
    "\n",
    "다음의 파이선 패키지들이 과제를 위해서 필요합니다. import하도록 하세요. \n",
    "- [numpy](www.numpy.org)는 파이선에서 텐서 연산을 할수있도록 합니다. \n",
    "- [h5py](http://www.h5py.org)는 H5라는 형식으로 저장된 데이터를 읽고, 저장하기 위해서 필요합니다. \n",
    "- [matplotlib](http://matplotlib.org)는 다양한 형태의 그래프를 그리는데 유용합니다.\n",
    "- [PIL](http://www.pythonware.com/products/pil/)과 [scipy](https://www.scipy.org/)는 사진을 다루기 위해서 필요합니다. "
   ]
  },
  {
   "cell_type": "code",
   "execution_count": 1,
   "metadata": {},
   "outputs": [],
   "source": [
    "import numpy as np\n",
    "import matplotlib.pyplot as plt\n",
    "import h5py\n",
    "import scipy\n",
    "from PIL import Image\n",
    "from scipy import ndimage\n",
    "from lr_utils import load_dataset\n",
    "\n",
    "%matplotlib inline"
   ]
  },
  {
   "attachments": {},
   "cell_type": "markdown",
   "metadata": {},
   "source": [
    "## 2 - Overview of the Problem set ##\n",
    "\n",
    "**Problem Statement**: 주어진 \"data.h5\"데이터셋은 다음을 포함합니다. :\n",
    "- m_train개의 학습 데이터는 \"고양이\" (y=1) 또는 \"고양이-아님\" (y=0)으로 레이블이 되어 있음.\n",
    "- m_test개의 테스트 데이터는 \"고양이\" (y=1) 또는 \"고양이-아님\" (y=0)으로 레이블이 되어 있음.\n",
    "- 각각의 이미지는 (num_px, num_px, 3)의 모양(shape)을 갖는 텐서입니다. 즉, 가로가 num_px, 세로가 num_px의 크기이며, RGB의 3개의 채널을 갖는 이미지입니다.\n",
    "\n",
    "당신은 이미즈를 \"고양이\"인지 아닌지를 분류하는 classifier를 작성해야합니다.\n",
    "\n",
    "먼저, 데이터셋에 익숙해지기 위해서, 다음 코드로 데이터셋을 불러옵니다. "
   ]
  },
  {
   "cell_type": "code",
   "execution_count": 2,
   "metadata": {},
   "outputs": [
    {
     "name": "stdout",
     "output_type": "stream",
     "text": [
      "(209, 64, 64, 3)\n",
      "(1, 209)\n",
      "(2,)\n",
      "uint8\n"
     ]
    }
   ],
   "source": [
    "# Loading the data (cat/non-cat)\n",
    "train_set_x_orig, train_set_y, test_set_x_orig, test_set_y, classes = load_dataset()\n",
    "\n",
    "print(train_set_x_orig.shape)\n",
    "print(train_set_y.shape)\n",
    "print(classes.shape)\n",
    "print(train_set_x_orig.dtype)"
   ]
  },
  {
   "attachments": {},
   "cell_type": "markdown",
   "metadata": {},
   "source": [
    "데이터셋들에 \"_orig\"라는 이름이 붙어있는데, 이것은 우리가 지금의 데이터셋을 전처리(preprocessing)하여 새로운 데이터를 만들려고 하기 때문입니다. \n",
    "전처리가 된 데이터들은 train_set_x, test_set_x같은 이름을 갖도록 할것입니다. \n",
    "\n",
    "train_set_x_orig 와 test_set_x_orig에서 각각의 라인은 하나의 이미지를 나타냅니다. 다음을 통해 하나의 이미지를 확인해보겠습니다. 변수 index의 값을 바꾸어서 다른 이미지도 확인해보세요. "
   ]
  },
  {
   "cell_type": "code",
   "execution_count": 3,
   "metadata": {},
   "outputs": [
    {
     "name": "stdout",
     "output_type": "stream",
     "text": [
      "y = 0, it's a 'non-cat' picture.\n"
     ]
    },
    {
     "data": {
      "image/png": "[encoded data removed]",
      "text/plain": [
       "<Figure size 640x480 with 1 Axes>"
      ]
     },
     "metadata": {},
     "output_type": "display_data"
    }
   ],
   "source": [
    "# Example of a picture\n",
    "index =10\n",
    "plt.imshow(train_set_x_orig[index])\n",
    "print (\"y = \" + str(train_set_y[0, index]) + \", it's a '\" + classes[np.squeeze(train_set_y[:, index])].decode(\"utf-8\") +  \"' picture.\")"
   ]
  },
  {
   "attachments": {},
   "cell_type": "markdown",
   "metadata": {},
   "source": [
    "딥러닝 프로그램에서 가장 흔한 에러는 matrix와 vector의 차원(dimension)이 맞지 않아서 발생합니다. \n",
    "텐서의 차원에 대해서 주의를 항상 써야합니다. \n",
    "**Exercise:** 다음 값들을 찾아보세요:\n",
    "- m_train (training examples의 갯수)\n",
    "- m_test (test examples의 갯수)\n",
    "- num_px (학습 이미지의 height 와 width)\n",
    "\n",
    "`train_set_x_orig`은 (m_train, num_px, num_px, 3)의 shape를 갖는 numpy 어레이(텐서)입니다. \n",
    "예를 들어, m_train은 'train_set_x_orig.shape[0]'로 접근할수 있습니다. "
   ]
  },
  {
   "cell_type": "code",
   "execution_count": 8,
   "metadata": {
    "scrolled": true
   },
   "outputs": [
    {
     "name": "stdout",
     "output_type": "stream",
     "text": [
      "Number of training examples: m_train = 209\n",
      "Number of testing examples: m_test = 50\n",
      "Height/Width of each image: num_px = 64\n",
      "Each image is of size: (64, 64, 3)\n",
      "train_set_x shape: (209, 64, 64, 3)\n",
      "train_set_y shape: (1, 209)\n",
      "test_set_x shape: (50, 64, 64, 3)\n",
      "test_set_y shape: (1, 50)\n"
     ]
    }
   ],
   "source": [
    "### START CODE HERE ### (≈ 3 lines of code)\n",
    "m_train = train_set_x_orig.shape[0]\n",
    "m_test = test_set_x_orig.shape[0]\n",
    "num_px = train_set_x_orig.shape[1]\n",
    "\n",
    "### END CODE HERE ###\n",
    "\n",
    "print (\"Number of training examples: m_train = \" + str(m_train))\n",
    "print (\"Number of testing examples: m_test = \" + str(m_test))\n",
    "print (\"Height/Width of each image: num_px = \" + str(num_px))\n",
    "print (\"Each image is of size: (\" + str(num_px) + \", \" + str(num_px) + \", 3)\")\n",
    "print (\"train_set_x shape: \" + str(train_set_x_orig.shape))\n",
    "print (\"train_set_y shape: \" + str(train_set_y.shape))\n",
    "print (\"test_set_x shape: \" + str(test_set_x_orig.shape))\n",
    "print (\"test_set_y shape: \" + str(test_set_y.shape))"
   ]
  },
  {
   "attachments": {},
   "cell_type": "markdown",
   "metadata": {},
   "source": [
    "**다음 같은 값들이 출력되어야 합니다.**: \n",
    "<table style=\"width:15%\">\n",
    "  <tr>\n",
    "    <td>m_train </td>\n",
    "    <td> 209 </td> \n",
    "  </tr>\n",
    "  <tr>\n",
    "    <td>m_test</td>\n",
    "    <td> 50 </td> \n",
    "  </tr>\n",
    "  <tr>\n",
    "    <td>num_px</td>\n",
    "    <td> 64 </td> \n",
    "  </tr>\n",
    "  \n",
    "</table>\n"
   ]
  },
  {
   "attachments": {},
   "cell_type": "markdown",
   "metadata": {},
   "source": [
    " 모양(shape)이 (num_px, num_px, 3)인 numpy-array 이미지를  (num_px $*$ num_px $*$ 3, 1)의 모양을 갖도록 변형하여 사용합니다. \n",
    " 지금부터는 training과 test 데이터셋의 이미지는 평탄화되어 하나의 이미지가 하나의 컬럼(column)으로 표현됩니다. \n",
    " 따라서, 학습 데이터셋은 m_train개의 컬럼을 갖게 됩니다. \n",
    "\n",
    "**Exercise:** \n",
    "training과 test 데이터셋의 모양이 (num\\_px $*$ num\\_px $*$ 3, 1)이 되도록 만드세요. \n",
    "\n",
    "힌트로서, (a, b, c, d)의 모양을 갖는 텐서 X를 평탄(flatten)화 시켜서 (b$*$c$*$d, a)로 만들기 위해서는 다음의 코드를 사용합니다:\n",
    "```python\n",
    "X_flatten = X.reshape((X.shape[0], -1)).T      # X.T is the transpose of X\n",
    "```\n",
    "또는,\n",
    "```python\n",
    "X_flatten = np.reshape(X, (X.shape[0], -1)).T\n",
    "```"
   ]
  },
  {
   "cell_type": "code",
   "execution_count": 14,
   "metadata": {},
   "outputs": [
    {
     "name": "stdout",
     "output_type": "stream",
     "text": [
      "train_set_x_flatten shape: (12288, 209)\n",
      "train_set_y shape: (1, 209)\n",
      "test_set_x_flatten shape: (12288, 50)\n",
      "test_set_y shape: (1, 50)\n",
      "sanity check after reshaping: [17 31 56 22 33]\n"
     ]
    }
   ],
   "source": [
    "# Reshape the training and test examples\n",
    "\n",
    "### START CODE HERE ### (≈ 2 lines of code)\n",
    "train_set_x_flatten = train_set_x_orig.reshape((train_set_x_orig.shape[0],-1)).T\n",
    "test_set_x_flatten = test_set_x_orig.reshape((test_set_x_orig.shape[0],-1)).T\n",
    "\n",
    "### END CODE HERE ###\n",
    "\n",
    "print (\"train_set_x_flatten shape: \" + str(train_set_x_flatten.shape))\n",
    "print (\"train_set_y shape: \" + str(train_set_y.shape))\n",
    "print (\"test_set_x_flatten shape: \" + str(test_set_x_flatten.shape))\n",
    "print (\"test_set_y shape: \" + str(test_set_y.shape))\n",
    "print (\"sanity check after reshaping: \" + str(train_set_x_flatten[0:5,0]))"
   ]
  },
  {
   "attachments": {},
   "cell_type": "markdown",
   "metadata": {},
   "source": [
    "**다음 같은 값들이 출력되어야 합니다.**: \n",
    "\n",
    "<table style=\"width:35%\">\n",
    "  <tr>\n",
    "    <td>train_set_x_flatten shape</td>\n",
    "    <td> (12288, 209)</td> \n",
    "  </tr>\n",
    "  <tr>\n",
    "    <td>train_set_y shape</td>\n",
    "    <td>(1, 209)</td> \n",
    "  </tr>\n",
    "  <tr>\n",
    "    <td>test_set_x_flatten shape</td>\n",
    "    <td>(12288, 50)</td> \n",
    "  </tr>\n",
    "  <tr>\n",
    "    <td>test_set_y shape</td>\n",
    "    <td>(1, 50)</td> \n",
    "  </tr>\n",
    "  <tr>\n",
    "  <td>sanity check after reshaping</td>\n",
    "  <td>[17 31 56 22 33]</td> \n",
    "  </tr>\n",
    "</table>"
   ]
  },
  {
   "attachments": {},
   "cell_type": "markdown",
   "metadata": {},
   "source": [
    "컬러 이미지의 한 픽셀은 red, green, blue의 3개 채널로 구성됩니다. 따라서, 한 픽셀은 실제 0-255사이의 값을 갖는 3개의 숫자 벡터입니다. \n",
    "\n",
    "머신러닝에서 일반적인 데이터의 전처리는 평균(mean)을 빼고, 표준편차(standard deviation)로 나누어서 표준화 시키는 것입니다. \n",
    "그러나, 이미지 데이터에서는 각 픽셀값들을 255로 나누어서 부동소수점으로 만드는 것으로 충분한 경우가 많습니다. \n",
    "\n",
    "데이터셋을 표준화시켜 봅시다. "
   ]
  },
  {
   "cell_type": "code",
   "execution_count": 15,
   "metadata": {},
   "outputs": [],
   "source": [
    "train_set_x = train_set_x_flatten/255.\n",
    "test_set_x = test_set_x_flatten/255."
   ]
  },
  {
   "attachments": {},
   "cell_type": "markdown",
   "metadata": {},
   "source": [
    "**기억할것들:**\n",
    "\n",
    "데이터셋을 위한 일반적인 표준화 방법은:\n",
    "- 다룰 데이터셋의 모양(shape)을 파악합니다. (m_train, m_test, num_px, ...)\n",
    "- 각각의 example들이 (num_px \\* num_px \\* 3, 1) 모양을 갖는 벡터로 만듭니다. \n",
    "- 데이터를 \"표준화\"시킵니다."
   ]
  },
  {
   "attachments": {},
   "cell_type": "markdown",
   "metadata": {},
   "source": [
    "\n",
    "## 3 - General Architecture of the learning algorithm ##\n",
    "\n",
    "이미지가 고양이인지 아닌지를 분류할 알고리즘을 만들 차례입니다. \n",
    "\n",
    "다음 그림에서 보듯이 Logistic Regression은 아주 단순한 neural network라고 할수 있습니다. \n",
    "\n",
    "<img src=\"images/LogReg_kiank.png\" style=\"width:650px;height:400px;\">\n",
    "\n",
    "**Cost값을 구하는 알고리즘의 수학적인 표현입니다**:\n",
    "\n",
    "하나의 이미지 example $x^{(i)}$:\n",
    "$$z^{(i)} = w^T x^{(i)} + b \\tag{1}$$\n",
    "$$\\hat{y}^{(i)} = a^{(i)} = sigmoid(z^{(i)})\\tag{2}$$ \n",
    "$$ \\mathcal{L}(a^{(i)}, y^{(i)}) =  - y^{(i)}  \\log(a^{(i)}) - (1-y^{(i)} )  \\log(1-a^{(i)})\\tag{3}$$\n",
    "\n",
    "cost는 모든 training examples들을 loss들을 더해서 평균을 구합니다:\n",
    "$$ J = \\frac{1}{m} \\sum_{i=1}^m \\mathcal{L}(a^{(i)}, y^{(i)})\\tag{6}$$\n",
    "\n",
    "**Key steps**:\n",
    "다음 연습에서는 다음과 같은 과정을 완성해야합니다.:\n",
    "- 모델의 파라미터 초기화\n",
    "- cost값을 최소화 파라미터 값을 학습하기\n",
    "- 학습된 파라미터를 이용하여 test데이터셋에 대해서 예측(prediction)하기\n",
    "- 결과 분석과 결론"
   ]
  },
  {
   "attachments": {},
   "cell_type": "markdown",
   "metadata": {},
   "source": [
    "## 4 - 알고리즘의 각 부분들 만들기 ## \n",
    "\n",
    "Neural network를 만드는 주요 과정입니다:\n",
    "1. 모델의 구조를 정의합니다 (예: 입력 피쳐의 갯수 등을 결정.)\n",
    "2. 모델의 파라미터를 초기화 합니다. \n",
    "3. 반복하기:\n",
    "    - loss 계산하기 (forward propagation)\n",
    "    - gradient 계산하기 (backward propagation)\n",
    "    - 파라미터 값 갱신하기 (gradient descent)\n",
    "\n",
    "대부분 1-3을 각각 별도록 구현하여, model()함수에 통합하게 됩니다. \n",
    "\n",
    "### 4.1 - 필요한 도움 함수 (helper functions) 구현\n",
    "\n",
    "**Exercise**: `sigmod()`함수는 위의 그림에서 보이듯이 neural network의 마지막에서 사용됩니다. $sigmoid(z) = \\frac{1}{1 + e^{-z}}$로 정의됩니다.\n",
    "np.exp()를 사용하여 sigmod()함수를 구현하세요. "
   ]
  },
  {
   "cell_type": "code",
   "execution_count": 18,
   "metadata": {},
   "outputs": [],
   "source": [
    "def sigmoid(z):\n",
    "    \"\"\"\n",
    "    Compute the sigmoid of z\n",
    "\n",
    "    Arguments:\n",
    "    z -- A scalar or numpy array of any size.\n",
    "\n",
    "    Return:\n",
    "    s -- sigmoid(z)\n",
    "    \"\"\"\n",
    "\n",
    "    ### START CODE HERE ### (≈ 1 line of code)\n",
    "    s = 1 /(1+(np.exp(-1*z)))\n",
    "    ### END CODE HERE ###\n",
    "    \n",
    "    return s"
   ]
  },
  {
   "cell_type": "code",
   "execution_count": 19,
   "metadata": {
    "scrolled": true
   },
   "outputs": [
    {
     "name": "stdout",
     "output_type": "stream",
     "text": [
      "sigmoid([0, 2]) = [0.5        0.88079708]\n"
     ]
    }
   ],
   "source": [
    "print (\"sigmoid([0, 2]) = \" + str(sigmoid(np.array([0,2]))))"
   ]
  },
  {
   "attachments": {},
   "cell_type": "markdown",
   "metadata": {},
   "source": [
    "**다음 같은 값들이 출력되어야 합니다.**: \n",
    "\n",
    "<table>\n",
    "  <tr>\n",
    "    <td>sigmoid([0, 2])</td>\n",
    "    <td> [ 0.5         0.88079708]</td> \n",
    "  </tr>\n",
    "</table>"
   ]
  },
  {
   "attachments": {},
   "cell_type": "markdown",
   "metadata": {},
   "source": [
    "### 4.2 - 파라미터 초기화\n",
    "\n",
    "**Exercise:** 아래에 파라미터를 초기화하세요. w는 0값들의 벡터로 초기화 합니다. numpy에서는 np.zeros()가 텐서를 0으로 만드는데 사용됩니다. "
   ]
  },
  {
   "cell_type": "code",
   "execution_count": 24,
   "metadata": {},
   "outputs": [],
   "source": [
    "def initialize_with_zeros(dim):\n",
    "    \"\"\"\n",
    "    This function creates a vector of zeros of shape (dim, 1) for w and initializes b to 0.\n",
    "    \n",
    "    Argument:\n",
    "    dim -- size of the w vector we want (or number of parameters in this case)\n",
    "    \n",
    "    Returns:\n",
    "    w -- initialized vector of shape (dim, 1)\n",
    "    b -- initialized scalar (corresponds to the bias)\n",
    "    \"\"\"\n",
    "    \n",
    "    ### START CODE HERE ### (≈ 2 line of code)\n",
    "    w = np.zeros((dim,1))\n",
    "    b = 0\n",
    "    ### END CODE HERE ###\n",
    "\n",
    "    assert(w.shape == (dim, 1))\n",
    "    assert(isinstance(b, float) or isinstance(b, int))\n",
    "    \n",
    "    return w, b"
   ]
  },
  {
   "cell_type": "code",
   "execution_count": 25,
   "metadata": {},
   "outputs": [
    {
     "name": "stdout",
     "output_type": "stream",
     "text": [
      "w = [[0.]\n",
      " [0.]]\n",
      "b = 0\n"
     ]
    }
   ],
   "source": [
    "dim = 2\n",
    "w, b = initialize_with_zeros(dim)\n",
    "print (\"w = \" + str(w))\n",
    "print (\"b = \" + str(b))"
   ]
  },
  {
   "attachments": {},
   "cell_type": "markdown",
   "metadata": {},
   "source": [
    "**다음 같은 값들이 출력되어야 합니다.**: \n",
    "\n",
    "<table style=\"width:15%\">\n",
    "    <tr>\n",
    "        <td>  w  </td>\n",
    "        <td> [[ 0.]\n",
    " [ 0.]] </td>\n",
    "    </tr>\n",
    "    <tr>\n",
    "        <td>  b   </td>\n",
    "        <td> 0 </td>\n",
    "    </tr>\n",
    "</table>\n",
    "\n",
    "이미지 입력에 대해서, w는 (num_px $\\times$ num_px $\\times$ 3, 1)의 모양(shape)을 갖습니다."
   ]
  },
  {
   "attachments": {},
   "cell_type": "markdown",
   "metadata": {},
   "source": [
    "### 4.3 - Forward and Backward propagation\n",
    "\n",
    "파라미터가 초기화되었으니, 'forward'와 'backward' propagation을 통해서 파라미터 값들을 학습하는 단계입니다.\n",
    "\n",
    "**Exercise:** cost 값과 gradient를 구하는 `propagate()` 함수를 구현합니다. \n",
    "\n",
    "**Hints**:\n",
    "\n",
    "Forward Propagation:\n",
    "- 입력 X를 받는다.\n",
    "- $A = \\sigma(w^T X + b) = (a^{(1)}, a^{(2)}, ..., a^{(m-1)}, a^{(m)})$를 계산한다.\n",
    "- $J = -\\frac{1}{m}\\sum_{i=1}^{m} \\{y^{(i)}\\log(a^{(i)})+(1-y^{(i)})\\log(1-a^{(i)})\\}$를 계산한다.\n",
    "\n",
    "Backward Propagation:\n",
    "- 다음의 2개 식을 사용합니다:\n",
    "$$ \\frac{\\partial J}{\\partial w} = \\frac{1}{m}X(A-Y)^T\\tag{7}$$\n",
    "$$ \\frac{\\partial J}{\\partial b} = \\frac{1}{m} \\sum_{i=1}^m (a^{(i)}-y^{(i)})\\tag{8}$$"
   ]
  },
  {
   "cell_type": "code",
   "execution_count": 62,
   "metadata": {},
   "outputs": [],
   "source": [
    "def propagate(w, b, X, Y):\n",
    "    \"\"\"\n",
    "    Implement the cost function and its gradient for the propagation explained above\n",
    "\n",
    "    Arguments:\n",
    "    w -- weights, a numpy array of size (num_px * num_px * 3, 1)\n",
    "    b -- bias, a scalar\n",
    "    X -- data of size (num_px * num_px * 3, number of examples)\n",
    "    Y -- true \"label\" vector (containing 0 if non-cat, 1 if cat) of size (1, number of examples)\n",
    "\n",
    "    Return:\n",
    "    cost -- negative log-likelihood cost for logistic regression\n",
    "    dw -- gradient of the loss with respect to w, thus same shape as w\n",
    "    db -- gradient of the loss with respect to b, thus same shape as b\n",
    "    \n",
    "    Tips:\n",
    "    - Write your code step by step for the propagation. np.log(), np.dot()\n",
    "    \"\"\"\n",
    "    \n",
    "    m = X.shape[1]\n",
    "    \n",
    "    # FORWARD PROPAGATION (FROM X TO COST)\n",
    "    ### START CODE HERE ### (≈ 2 lines of code)\n",
    "    A = sigmoid(np.dot(w.T,X)+b)\n",
    "    cost = (-1/m) * np.sum(Y*np.log(A)+(1-Y)*np.log(1-A))\n",
    "    ### END CODE HERE ###\n",
    "    \n",
    "    # BACKWARD PROPAGATION (TO FIND GRAD)\n",
    "    ### START CODE HERE ### (≈ 2 lines of code)\n",
    "    dw = (1/m) * np.dot(X,((A-Y).T))\n",
    "    db = (1/m) * np.sum(A-Y)\n",
    "    ### END CODE HERE ###\n",
    "\n",
    "    assert(dw.shape == w.shape)\n",
    "    assert(db.dtype == float)\n",
    "    cost = np.squeeze(cost)\n",
    "    assert(cost.shape == ())\n",
    "    \n",
    "    grads = {\"dw\": dw,\n",
    "             \"db\": db}\n",
    "    \n",
    "    return grads, cost"
   ]
  },
  {
   "cell_type": "code",
   "execution_count": 64,
   "metadata": {},
   "outputs": [
    {
     "name": "stdout",
     "output_type": "stream",
     "text": [
      "dw = [[0.99845601]\n",
      " [2.39507239]]\n",
      "db = 0.001455578136784208\n",
      "cost = 5.801545319394553\n"
     ]
    }
   ],
   "source": [
    "w, b, X, Y = np.array([[1.],[2.]]), 2., np.array([[1.,2.,-1.],[3.,4.,-3.2]]), np.array([[1,0,1]])\n",
    "grads, cost = propagate(w, b, X, Y)\n",
    "print (\"dw = \" + str(grads[\"dw\"]))\n",
    "print (\"db = \" + str(grads[\"db\"]))\n",
    "print (\"cost = \" + str(cost))"
   ]
  },
  {
   "attachments": {},
   "cell_type": "markdown",
   "metadata": {},
   "source": [
    "**다음 같은 값들이 출력되어야 합니다.**: \n",
    "\n",
    "<table style=\"width:50%\">\n",
    "    <tr>\n",
    "        <td>   dw   </td>\n",
    "      <td> [[ 0.99845601]\n",
    "     [ 2.39507239]]</td>\n",
    "    </tr>\n",
    "    <tr>\n",
    "        <td>   db   </td>\n",
    "        <td> 0.00145557813678 </td>\n",
    "    </tr>\n",
    "    <tr>\n",
    "        <td>   cost  </td>\n",
    "        <td> 5.801545319394553 </td>\n",
    "    </tr>\n",
    "\n",
    "</table>"
   ]
  },
  {
   "attachments": {},
   "cell_type": "markdown",
   "metadata": {},
   "source": [
    "### 4.4 - Optimization (최적화)\n",
    "- 지금까지 당신은 파라미터를 초기화하였고, \n",
    "- cost 함수값과 gradient를 계산하였습니다. \n",
    "- 이제는, gradient descent를 이용하여 파라미터를 갱신할 차례입니다.\n",
    "\n",
    "**Exercise:** 최적화 함수인 optimize()를 구현합니다. 여기에서는 cost함수인 $J$를 최소화하여 $w$와 $b$를 학습하는 것입니다. 파라미터가 $\\theta$라면, $ \\theta = \\theta - \\alpha \\text{ } d\\theta$와 같이 파라미터 값을 갱신합니다. 여기서 $\\alpha$는 learning rate입니다. "
   ]
  },
  {
   "cell_type": "code",
   "execution_count": 60,
   "metadata": {},
   "outputs": [],
   "source": [
    "# GRADED FUNCTION: optimize\n",
    "\n",
    "def optimize(w, b, X, Y, num_iterations, learning_rate, print_cost = False):\n",
    "    \"\"\"\n",
    "    This function optimizes w and b by running a gradient descent algorithm\n",
    "    \n",
    "    Arguments:\n",
    "    w -- weights, a numpy array of size (num_px * num_px * 3, 1)\n",
    "    b -- bias, a scalar\n",
    "    X -- data of shape (num_px * num_px * 3, number of examples)\n",
    "    Y -- true \"label\" vector (containing 0 if non-cat, 1 if cat), of shape (1, number of examples)\n",
    "    num_iterations -- number of iterations of the optimization loop\n",
    "    learning_rate -- learning rate of the gradient descent update rule\n",
    "    print_cost -- True to print the loss every 100 steps\n",
    "    \n",
    "    Returns:\n",
    "    params -- dictionary containing the weights w and bias b\n",
    "    grads -- dictionary containing the gradients of the weights and bias with respect to the cost function\n",
    "    costs -- list of all the costs computed during the optimization, this will be used to plot the learning curve.\n",
    "    \n",
    "    Tips:\n",
    "    You basically need to write down two steps and iterate through them:\n",
    "        1) Calculate the cost and the gradient for the current parameters. Use propagate().\n",
    "        2) Update the parameters using gradient descent rule for w and b.\n",
    "    \"\"\"\n",
    "    \n",
    "    costs = []\n",
    "    \n",
    "    for i in range(num_iterations):\n",
    "        \n",
    "        \n",
    "        # Cost and gradient calculation (≈ 1-4 lines of code)\n",
    "        ### START CODE HERE ### \n",
    "        grads,cost = propagate(w,b,X,Y)\n",
    "        ### END CODE HERE ###\n",
    "        \n",
    "        # Retrieve derivatives from grads\n",
    "        dw = grads[\"dw\"]\n",
    "        db = grads[\"db\"]\n",
    "        \n",
    "        # update rule (≈ 2 lines of code)\n",
    "        ### START CODE HERE ###\n",
    "        w = w - learning_rate*dw\n",
    "        b = b - learning_rate*db\n",
    "        ### END CODE HERE ###\n",
    "        \n",
    "        # Record the costs\n",
    "        if i % 100 == 0:\n",
    "            costs.append(cost)\n",
    "        \n",
    "        # Print the cost every 100 training iterations\n",
    "        if print_cost and i % 100 == 0:\n",
    "            print (\"Cost after iteration %i: %f\" %(i, cost))\n",
    "    \n",
    "    params = {\"w\": w,\n",
    "              \"b\": b}\n",
    "    \n",
    "    grads = {\"dw\": dw,\n",
    "             \"db\": db}\n",
    "    \n",
    "    return params, grads, costs"
   ]
  },
  {
   "cell_type": "code",
   "execution_count": 61,
   "metadata": {},
   "outputs": [
    {
     "name": "stdout",
     "output_type": "stream",
     "text": [
      "Cost after iteration 0: 5.801545\n",
      "Cost after iteration 100: 1.055933\n",
      "Cost after iteration 200: 0.378303\n",
      "Cost after iteration 300: 0.363595\n",
      "Cost after iteration 400: 0.356242\n",
      "Cost after iteration 500: 0.349210\n",
      "Cost after iteration 600: 0.342420\n",
      "Cost after iteration 700: 0.335860\n",
      "Cost after iteration 800: 0.329517\n",
      "Cost after iteration 900: 0.323380\n",
      "w = [[-0.64226437]\n",
      " [-0.43498153]]\n",
      "b = 2.2025594747904087\n",
      "dw = [[ 0.06282959]\n",
      " [-0.01416124]]\n",
      "db = -0.04847508604218077\n"
     ]
    }
   ],
   "source": [
    "params, grads, costs = optimize(w, b, X, Y, num_iterations= 1000, learning_rate = 0.009, print_cost = True)\n",
    "\n",
    "print (\"w = \" + str(params[\"w\"]))\n",
    "print (\"b = \" + str(params[\"b\"]))\n",
    "print (\"dw = \" + str(grads[\"dw\"]))\n",
    "print (\"db = \" + str(grads[\"db\"]))"
   ]
  },
  {
   "cell_type": "code",
   "execution_count": 56,
   "metadata": {},
   "outputs": [
    {
     "data": {
      "text/plain": [
       "[<matplotlib.lines.Line2D at 0x23951eb4dd0>]"
      ]
     },
     "execution_count": 56,
     "metadata": {},
     "output_type": "execute_result"
    },
    {
     "data": {
      "image/png": "[encoded data removed]",
      "text/plain": [
       "<Figure size 640x480 with 1 Axes>"
      ]
     },
     "metadata": {},
     "output_type": "display_data"
    }
   ],
   "source": [
    "import matplotlib.pyplot as plt\n",
    "plt.plot(costs)"
   ]
  },
  {
   "attachments": {},
   "cell_type": "markdown",
   "metadata": {},
   "source": [
    "**다음 같은 값들이 출력되어야 합니다.**: \n",
    "<table style=\"width:40%\">\n",
    "    <tr>\n",
    "       <td> w </td>\n",
    "       <td>[[ 0.19033591] [ 0.12259159]] </td>\n",
    "    </tr>\n",
    "    <tr>\n",
    "       <td> b </td>\n",
    "       <td> 1.92535983008 </td>\n",
    "    </tr>\n",
    "    <tr>\n",
    "       <td> dw </td>\n",
    "       <td> [[ 0.67752042]\n",
    " [ 1.41625495]] </td>\n",
    "    </tr>\n",
    "    <tr>\n",
    "       <td> db </td>\n",
    "       <td> 0.219194504541 </td>\n",
    "    </tr>\n",
    "</table>"
   ]
  },
  {
   "attachments": {},
   "cell_type": "markdown",
   "metadata": {},
   "source": [
    "**Exercise:** 앞서의 함수는 학습된 w와 b를 출력합니다. 이제, 학습된 w와 b를 이용하여 데이터셋 X에 대해서 값을 예측해봅니다. `predict()`함수를 구현하십시오. \n",
    "이 함수는 2가지 단계를 수행합니다. \n",
    "\n",
    "1. 예측값인 $\\hat{Y} = A = \\sigma(w^T X + b)$를 계산합니다.\n",
    "\n",
    "2. A의 값을 0 (activation <= 0.5인 경우) 또는 1 (activation > 0.5인 경우)로 바꿉니다. 예측된 이 값들을 `Y_prediction`에 저장합니다. "
   ]
  },
  {
   "cell_type": "code",
   "execution_count": 65,
   "metadata": {},
   "outputs": [],
   "source": [
    "# GRADED FUNCTION: predict\n",
    "\n",
    "def predict(w, b, X):\n",
    "    '''\n",
    "    Predict whether the label is 0 or 1 using learned logistic regression parameters (w, b)\n",
    "    \n",
    "    Arguments:\n",
    "    w -- weights, a numpy array of size (num_px * num_px * 3, 1)\n",
    "    b -- bias, a scalar\n",
    "    X -- data of size (num_px * num_px * 3, number of examples)\n",
    "    \n",
    "    Returns:\n",
    "    Y_prediction -- a numpy array (vector) containing all predictions (0/1) for the examples in X\n",
    "    '''\n",
    "    \n",
    "    m = X.shape[1]\n",
    "    Y_prediction = np.zeros((1,m))\n",
    "    w = w.reshape(X.shape[0], 1)\n",
    "    \n",
    "    # Compute vector \"A\" predicting the probabilities of a cat being present in the picture\n",
    "    ### START CODE HERE ### (≈ 1 line of code)\n",
    "    A = sigmoid(np.dot(w.T,X)+b)                                # Dimentions = (1, m)\n",
    "    ### END CODE HERE ###\n",
    "    \n",
    "    Y_prediction[A > 0.5] = 1\n",
    "    \n",
    "    assert(Y_prediction.shape == (1, m))\n",
    "    \n",
    "    return Y_prediction"
   ]
  },
  {
   "cell_type": "code",
   "execution_count": 66,
   "metadata": {},
   "outputs": [
    {
     "name": "stdout",
     "output_type": "stream",
     "text": [
      "predictions = [[1. 1. 0.]]\n"
     ]
    }
   ],
   "source": [
    "w = np.array([[0.1124579],[0.23106775]])\n",
    "b = -0.3\n",
    "X = np.array([[1.,-1.1,-3.2],[1.2,2.,0.1]])\n",
    "print (\"predictions = \" + str(predict(w, b, X)))"
   ]
  },
  {
   "attachments": {},
   "cell_type": "markdown",
   "metadata": {},
   "source": [
    "**다음 같은 값들이 출력되어야 합니다.**: \n",
    "\n",
    "<table style=\"width:30%\">\n",
    "    <tr>\n",
    "         <td>\n",
    "             predictions\n",
    "         </td>\n",
    "          <td>\n",
    "            [[ 1.  1.  0.]]\n",
    "         </td>  \n",
    "   </tr>\n",
    "\n",
    "</table>\n"
   ]
  },
  {
   "attachments": {},
   "cell_type": "markdown",
   "metadata": {},
   "source": [
    "**What to remember:**\n",
    "지금까지 다음의 함수들을 구현하였습니다:\n",
    "- (W, b)를 초기화\n",
    "- 파라미터 (w, b)를 학습하기 위해서 loss를 반복적으로 감소시킴:\n",
    "    - cost와 gradient를 계산\n",
    "    - gradient descent를 통해 파라미터 갱신\n",
    "-  학습된 (w, b)를 이용하여 주어진 이미지 입력에 대해서 예측값 생성\n"
   ]
  },
  {
   "attachments": {},
   "cell_type": "markdown",
   "metadata": {},
   "source": [
    "## 5 -구현된 모든 기능들을 하나의 모델에 통합합니다. ##\n",
    "\n",
    "**Exercise:** `model()`함수를 구현합니다. 다음의 표기법이 사용됩니다:\n",
    "Implement the model function. Use the following notation:\n",
    "- Y_prediction_test는 test데이터셋에 대한 예측값입니다.\n",
    "- Y_prediction_train는 train데이터셋에 대한 예측값입니다.\n",
    "- w, cost, grads는 optimize()함수에서의 출력값입니다."
   ]
  },
  {
   "cell_type": "code",
   "execution_count": 84,
   "metadata": {},
   "outputs": [],
   "source": [
    "# GRADED FUNCTION: model\n",
    "\n",
    "def model(X_train, Y_train, X_test, Y_test, num_iterations = 2000, learning_rate = 0.5, print_cost = False):\n",
    "\n",
    "     \"\"\"\n",
    "     Builds the logistic regression model by calling the function you've implemented previously\n",
    "\n",
    "     Arguments:\n",
    "     X_train -- training set represented by a numpy array of shape (num_px * num_px * 3, m_train)\n",
    "     Y_train -- training labels represented by a numpy array (vector) of shape (1, m_train)\n",
    "     X_test -- test set represented by a numpy array of shape (num_px * num_px * 3, m_test)\n",
    "     Y_test -- test labels represented by a numpy array (vector) of shape (1, m_test)\n",
    "     num_iterations -- hyperparameter representing the number of iterations to optimize the parameters\n",
    "     learning_rate -- hyperparameter representing the learning rate used in the update rule of optimize()\n",
    "     print_cost -- Set to true to print the cost every 100 iterations\n",
    "\n",
    "     Returns:\n",
    "     d -- dictionary containing information about the model.\n",
    "     \"\"\"\n",
    "\n",
    "     ### START CODE HERE ###\n",
    "     # initialize parameters with zeros (≈ 1 line of code)\n",
    "     w , b = initialize_with_zeros(X_train.shape[0])\n",
    "     # Gradient descent (≈ 1 line of code)\n",
    "     params,grads,costs = optimize(w,b,X_train,Y_train,num_iterations,learning_rate,print_cost)\n",
    "\n",
    "     # Retrieve parameters w and b from dictionary \"parameters\"\n",
    "     w = params[\"w\"]\n",
    "     b = params[\"b\"]\n",
    "\n",
    "     # Predict test/train set examples (≈ 2 lines of code)\n",
    "     Y_prediction_train = predict(w,b,X_train)\n",
    "     Y_prediction_test = predict(w,b,X_test)\n",
    "\n",
    "     ### END CODE HERE ###\n",
    "\n",
    "     # Print train/test Errors\n",
    "     print(\"train accuracy: {} %\".format(100 - np.mean(np.abs(Y_prediction_train - Y_train)) * 100))\n",
    "     print(\"test accuracy: {} %\".format(100 - np.mean(np.abs(Y_prediction_test - Y_test)) * 100))\n",
    "\n",
    "\n",
    "     d = {\"costs\": costs,\n",
    "     \"Y_prediction_test\": Y_prediction_test, \n",
    "     \"Y_prediction_train\" : Y_prediction_train, \n",
    "     \"w\" : w, \n",
    "     \"b\" : b,\n",
    "     \"learning_rate\" : learning_rate,\n",
    "     \"num_iterations\": num_iterations}\n",
    "\n",
    "     return d"
   ]
  },
  {
   "attachments": {},
   "cell_type": "markdown",
   "metadata": {},
   "source": [
    "모델을 학습시키기 위해서 다음의 코드를 실행합니다."
   ]
  },
  {
   "cell_type": "code",
   "execution_count": 85,
   "metadata": {},
   "outputs": [
    {
     "name": "stdout",
     "output_type": "stream",
     "text": [
      "Cost after iteration 0: 0.693147\n",
      "Cost after iteration 100: 0.584508\n",
      "Cost after iteration 200: 0.466949\n",
      "Cost after iteration 300: 0.376007\n",
      "Cost after iteration 400: 0.331463\n",
      "Cost after iteration 500: 0.303273\n",
      "Cost after iteration 600: 0.279880\n",
      "Cost after iteration 700: 0.260042\n",
      "Cost after iteration 800: 0.242941\n",
      "Cost after iteration 900: 0.228004\n",
      "Cost after iteration 1000: 0.214820\n",
      "Cost after iteration 1100: 0.203078\n",
      "Cost after iteration 1200: 0.192544\n",
      "Cost after iteration 1300: 0.183033\n",
      "Cost after iteration 1400: 0.174399\n",
      "Cost after iteration 1500: 0.166521\n",
      "Cost after iteration 1600: 0.159305\n",
      "Cost after iteration 1700: 0.152667\n",
      "Cost after iteration 1800: 0.146542\n",
      "Cost after iteration 1900: 0.140872\n",
      "train accuracy: 99.04306220095694 %\n",
      "test accuracy: 70.0 %\n"
     ]
    }
   ],
   "source": [
    "d = model(train_set_x, train_set_y, test_set_x, test_set_y, num_iterations = 2000, learning_rate = 0.005, print_cost = True)"
   ]
  },
  {
   "attachments": {},
   "cell_type": "markdown",
   "metadata": {},
   "source": [
    "**다음 같은 값들이 출력되어야 합니다.**: \n",
    "<table style=\"width:40%\"> \n",
    "    <tr>\n",
    "        <td> Cost after iteration 0  </td> \n",
    "        <td> 0.693147 </td>\n",
    "    </tr>\n",
    "    <tr>\n",
    "        <td> Train Accuracy  </td> \n",
    "        <td> 99.04306220095694 % </td>\n",
    "    </tr>\n",
    "    <tr>\n",
    "        <td>Test Accuracy </td> \n",
    "        <td> 70.0 % </td>\n",
    "    </tr>\n",
    "</table> "
   ]
  },
  {
   "attachments": {},
   "cell_type": "markdown",
   "metadata": {},
   "source": [
    "**Comment**: training 예측 정확도는 100%에 가깝습니다. 이건 모델이 학습데이터를 충분히 학습할만한 용량을 가지고 있다는 것을 말해줍니다. 그러나, test 예측 정확도는 약 70%입니다. Logistic regression과 같은 매우 단순한 모델에서 이정도의 정확도는 그다지 나쁜것은 아닙니다. 앞으로, 여러가지 방법들을 사용하여 정확도를 계속 높여 나갈 것입니다. \n",
    "\n",
    "지금처럼 training 정확도와 test정확도가 차이가 많이 나는 것을 과적합(overfitting)되었다고 합니다. 앞으로 배울 정규화(regularization)와 같은 방법을 사용하여 과적합을 줄일수 있습니다. \n",
    "\n",
    "아래에서 `index`값을 바꾸어서 test데이터에 대해서 예측값들이 어떤지를 살펴봅니다."
   ]
  },
  {
   "cell_type": "code",
   "execution_count": 91,
   "metadata": {},
   "outputs": [
    {
     "name": "stdout",
     "output_type": "stream",
     "text": [
      "1.0\n",
      "y = 1, you predicted that it is a \"cat\" picture.\n"
     ]
    },
    {
     "data": {
      "image/png": "[encoded data removed]",
      "text/plain": [
       "<Figure size 640x480 with 1 Axes>"
      ]
     },
     "metadata": {},
     "output_type": "display_data"
    }
   ],
   "source": [
    "# Example of a picture that was wrongly classified.\n",
    "index = 20\n",
    "print(d[\"Y_prediction_test\"][0,index])\n",
    "plt.imshow(test_set_x[:,index].reshape((num_px, num_px, 3)))\n",
    "print (\"y = \" + str(test_set_y[0,index]) + \", you predicted that it is a \\\"\" + classes[int(d[\"Y_prediction_test\"][0,index])].decode(\"utf-8\") +  \"\\\" picture.\")"
   ]
  },
  {
   "attachments": {},
   "cell_type": "markdown",
   "metadata": {},
   "source": [
    "학습동안 cost함수 값이 어떻게 변하는지를 살펴봅니다."
   ]
  },
  {
   "cell_type": "code",
   "execution_count": 92,
   "metadata": {},
   "outputs": [
    {
     "data": {
      "image/png": "[encoded data removed]",
      "text/plain": [
       "<Figure size 640x480 with 1 Axes>"
      ]
     },
     "metadata": {},
     "output_type": "display_data"
    }
   ],
   "source": [
    "# Plot learning curve (with costs)\n",
    "costs = np.squeeze(d['costs'])\n",
    "plt.plot(costs)\n",
    "plt.ylabel('cost')\n",
    "plt.xlabel('iterations (per hundreds)')\n",
    "plt.title(\"Learning rate =\" + str(d[\"learning_rate\"]))\n",
    "plt.show()"
   ]
  },
  {
   "attachments": {},
   "cell_type": "markdown",
   "metadata": {},
   "source": [
    "**Interpretation**:\n",
    "cost값이 감소하는 것을 볼수 있습니다. 이것은 파라미터 학습이 이루어지고 있음을 보입니다. iteratgions를 늘려서 학습시간을 늘릴수도 있습니다. 학습시간을 늘리면, traing예측정확도는 높아지지만, test 예측 정확도는 오히려 감소하는 것을 발견하게 될것입니다. 이것을 과적합(overfitting)이 발생하고 있다고 합니다. \n"
   ]
  },
  {
   "cell_type": "markdown",
   "metadata": {},
   "source": []
  }
 ],
 "metadata": {
  "coursera": {
   "course_slug": "neural-networks-deep-learning",
   "graded_item_id": "XaIWT",
   "launcher_item_id": "zAgPl"
  },
  "kernelspec": {
   "display_name": "Python 3.8.10 64-bit",
   "language": "python",
   "name": "python3"
  },
  "language_info": {
   "codemirror_mode": {
    "name": "ipython",
    "version": 3
   },
   "file_extension": ".py",
   "mimetype": "text/x-python",
   "name": "python",
   "nbconvert_exporter": "python",
   "pygments_lexer": "ipython3",
   "version": "3.11.1"
  },
  "varInspector": {
   "cols": {
    "lenName": 16,
    "lenType": 16,
    "lenVar": 40
   },
   "kernels_config": {
    "python": {
     "delete_cmd_postfix": "",
     "delete_cmd_prefix": "del ",
     "library": "var_list.py",
     "varRefreshCmd": "print(var_dic_list())"
    },
    "r": {
     "delete_cmd_postfix": ") ",
     "delete_cmd_prefix": "rm(",
     "library": "var_list.r",
     "varRefreshCmd": "cat(var_dic_list()) "
    }
   },
   "oldHeight": 213.4,
   "position": {
    "height": "235.4px",
    "left": "1160px",
    "right": "20px",
    "top": "126px",
    "width": "350px"
   },
   "types_to_exclude": [
    "module",
    "function",
    "builtin_function_or_method",
    "instance",
    "_Feature"
   ],
   "varInspector_section_display": "block",
   "window_display": false
  },
  "vscode": {
   "interpreter": {
    "hash": "767d51c1340bd893661ea55ea3124f6de3c7a262a8b4abca0554b478b1e2ff90"
   }
  }
 },
 "nbformat": 4,
 "nbformat_minor": 2
}
